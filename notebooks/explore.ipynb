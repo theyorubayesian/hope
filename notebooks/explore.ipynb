{
 "cells": [
  {
   "cell_type": "code",
   "execution_count": 1,
   "metadata": {},
   "outputs": [
    {
     "data": {
      "text/plain": [
       "True"
      ]
     },
     "execution_count": 1,
     "metadata": {},
     "output_type": "execute_result"
    }
   ],
   "source": [
    "import json\n",
    "import os\n",
    "from datetime import datetime\n",
    "from datetime import timedelta\n",
    "from random import sample\n",
    "\n",
    "from bson import json_util\n",
    "from dotenv import load_dotenv\n",
    "from pymongo import MongoClient\n",
    "from pymongo.collection import Collection\n",
    "from pymongo.database import Database\n",
    "\n",
    "load_dotenv()"
   ]
  },
  {
   "attachments": {},
   "cell_type": "markdown",
   "metadata": {},
   "source": [
    "## Sampling Strategy\n",
    "\n",
    "| Period | # Samples/Day (in thousands) | Total No of Samples (in thousands) |\n",
    "| --------- | ------------- | ------- |\n",
    "| February 18 - 24 | 30 | 210 |\n",
    "| February 25 | 50 | 50 |\n",
    "| February 26 - 28 | 15 | 45 |\n",
    "| Total | - | 305 |"
   ]
  },
  {
   "cell_type": "markdown",
   "metadata": {},
   "source": [
    "## Connection"
   ]
  },
  {
   "cell_type": "code",
   "execution_count": 2,
   "metadata": {},
   "outputs": [],
   "source": [
    "db_user_password = os.getenv(\"MONGODB_USER_PASSWORD\")\n",
    "db_name = os.getenv(\"MONGODB_DB\")\n",
    "connection_string = str.format(\n",
    "    os.getenv(\"MONGODB_CONNECTION_STRING\"), password=db_user_password, database=db_name\n",
    ")\n",
    "connection = MongoClient(connection_string)"
   ]
  },
  {
   "cell_type": "code",
   "execution_count": 3,
   "metadata": {},
   "outputs": [],
   "source": [
    "db: Database = connection[\"twitter-data\"]\n",
    "collection: Collection = connection[\"twitter-data\"][\"2023Elections\"]"
   ]
  },
  {
   "cell_type": "markdown",
   "metadata": {},
   "source": [
    "## Sampling"
   ]
  },
  {
   "cell_type": "code",
   "execution_count": 4,
   "metadata": {},
   "outputs": [],
   "source": [
    "all_data = []"
   ]
  },
  {
   "attachments": {},
   "cell_type": "markdown",
   "metadata": {},
   "source": [
    "### February 18th - 24th: One week before elections"
   ]
  },
  {
   "cell_type": "code",
   "execution_count": null,
   "metadata": {},
   "outputs": [],
   "source": [
    "N_SAMPLES = 30000"
   ]
  },
  {
   "cell_type": "code",
   "execution_count": null,
   "metadata": {},
   "outputs": [],
   "source": [
    "for day in range(18, 25):\n",
    "    cursor = collection.aggregate([\n",
    "        { '$match': { 'timestamp': {\n",
    "            \"$gte\": datetime(2023, 2, day), \"$lt\": datetime(2023, 2, day+1)}}},\n",
    "        { '$sample': { 'size':  N_SAMPLES}}\n",
    "    ])\n",
    "    all_data.extend(list(cursor))"
   ]
  },
  {
   "attachments": {},
   "cell_type": "markdown",
   "metadata": {},
   "source": [
    "### February 25: Election Day"
   ]
  },
  {
   "cell_type": "code",
   "execution_count": 5,
   "metadata": {},
   "outputs": [],
   "source": [
    "election_day_data = []\n",
    "\n",
    "N_SAMPLES = 50000"
   ]
  },
  {
   "cell_type": "code",
   "execution_count": null,
   "metadata": {},
   "outputs": [],
   "source": [
    "# NOTE: This is untested\n",
    "# Sample in batches because of MongoDB Memory Error\n",
    "# Subsample later to avoid duplicates\n",
    "unique_ids = set()\n",
    "\n",
    "while len(unique_ids) < N_SAMPLES:\n",
    "    cursor = collection.aggregate([\n",
    "        { '$match': { 'timestamp': {\n",
    "            \"$gte\": datetime(2023, 2, 25), \"$lt\": datetime(2023, 2, 26)}}},\n",
    "        { '$sample': {'size':  25000}}\n",
    "    ])\n",
    "    new_data_sample = list(cursor)\n",
    "    election_day_data.extend(new_data_sample)\n",
    "    unique_ids.update([item[\"tweet_id\"] for item in new_data_sample])"
   ]
  },
  {
   "cell_type": "code",
   "execution_count": null,
   "metadata": {},
   "outputs": [],
   "source": [
    "election_day_data = [item for item in election_day_data if item[\"tweet_id\"] in sample(unique_ids, k=50000)]"
   ]
  },
  {
   "cell_type": "code",
   "execution_count": null,
   "metadata": {},
   "outputs": [],
   "source": [
    "all_data.extend(election_day_data)"
   ]
  },
  {
   "attachments": {},
   "cell_type": "markdown",
   "metadata": {},
   "source": [
    "### February 26 - 28: Three days after elections"
   ]
  },
  {
   "cell_type": "code",
   "execution_count": null,
   "metadata": {},
   "outputs": [],
   "source": [
    "N_SAMPLES = 15000"
   ]
  },
  {
   "cell_type": "code",
   "execution_count": null,
   "metadata": {},
   "outputs": [],
   "source": [
    "for day in range(26, 29):\n",
    "    start_date = datetime(2023, 2, day)\n",
    "    end_date = start_date + timedelta(days=1)       # Gracefully handle end-of-month\n",
    "\n",
    "    cursor = collection.aggregate([\n",
    "        { '$match': { 'timestamp': {\n",
    "            \"$gte\": datetime(2023, 2, start_date), \"$lt\": datetime(2023, 2, end_date)}}},\n",
    "        { '$sample': { 'size':  N_SAMPLES}}\n",
    "    ])\n",
    "    all_data.extend(list(cursor))"
   ]
  },
  {
   "attachments": {},
   "cell_type": "markdown",
   "metadata": {},
   "source": [
    "### Output"
   ]
  },
  {
   "cell_type": "code",
   "execution_count": null,
   "metadata": {},
   "outputs": [],
   "source": [
    "len(all_data)"
   ]
  },
  {
   "cell_type": "code",
   "execution_count": null,
   "metadata": {},
   "outputs": [],
   "source": [
    "dumps = json.JSONEncoder(default=json_util.default, ensure_ascii=False).encode      # Handles ObjectId which json.dumps fails with"
   ]
  },
  {
   "cell_type": "code",
   "execution_count": null,
   "metadata": {},
   "outputs": [],
   "source": [
    "with open(\"../data/2023Elections_sample_test.jsonl\", \"w\") as f:\n",
    "    for d in all_data:\n",
    "        line = dumps(d) + \"\\n\"\n",
    "        f.write(line)"
   ]
  },
  {
   "cell_type": "code",
   "execution_count": null,
   "metadata": {},
   "outputs": [],
   "source": []
  }
 ],
 "metadata": {
  "kernelspec": {
   "display_name": "Python 3",
   "language": "python",
   "name": "python3"
  },
  "language_info": {
   "codemirror_mode": {
    "name": "ipython",
    "version": 3
   },
   "file_extension": ".py",
   "mimetype": "text/x-python",
   "name": "python",
   "nbconvert_exporter": "python",
   "pygments_lexer": "ipython3",
   "version": "3.9.16"
  },
  "orig_nbformat": 4
 },
 "nbformat": 4,
 "nbformat_minor": 2
}
