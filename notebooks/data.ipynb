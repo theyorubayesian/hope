{
 "cells": [
  {
   "cell_type": "code",
   "execution_count": 1,
   "metadata": {},
   "outputs": [],
   "source": [
    "from pprint import pprint\n",
    "\n",
    "import jsonlines\n",
    "\n",
    "from hope.twitter.graph import get_graphing_info\n",
    "from hope.twitter.item import TweetItem"
   ]
  },
  {
   "cell_type": "code",
   "execution_count": 2,
   "metadata": {},
   "outputs": [],
   "source": [
    "DEBUG = False\n",
    "\n",
    "node_set = set()\n",
    "all_nodes = []\n",
    "all_edges = []"
   ]
  },
  {
   "cell_type": "code",
   "execution_count": null,
   "metadata": {},
   "outputs": [],
   "source": [
    "with jsonlines.open(\"../data/2023Elections_sample.jsonl\") as f:\n",
    "    for line in f:\n",
    "        _ = \"\" if line.get(\"_id\", None) is None else line.pop(\"_id\")\n",
    "    \n",
    "        nodes, edge = get_graphing_info(TweetItem(**line), tweets_as_nodes=True)\n",
    "        if nodes:\n",
    "            if DEBUG:\n",
    "                pprint(nodes)\n",
    "                pprint(edge)\n",
    "            \n",
    "            all_edges.append(edge)\n",
    "\n",
    "            for node in nodes:\n",
    "                if node[\"id\"] not in node_set:\n",
    "                    all_nodes.append(node)\n",
    "                    node_set.add(node[\"id\"])"
   ]
  },
  {
   "cell_type": "code",
   "execution_count": 5,
   "metadata": {},
   "outputs": [
    {
     "data": {
      "text/plain": [
       "586972"
      ]
     },
     "execution_count": 5,
     "metadata": {},
     "output_type": "execute_result"
    }
   ],
   "source": [
    "len(all_edges)"
   ]
  },
  {
   "cell_type": "code",
   "execution_count": 7,
   "metadata": {},
   "outputs": [
    {
     "data": {
      "text/plain": [
       "357547"
      ]
     },
     "execution_count": 7,
     "metadata": {},
     "output_type": "execute_result"
    }
   ],
   "source": [
    "len(all_nodes)"
   ]
  },
  {
   "cell_type": "code",
   "execution_count": null,
   "metadata": {},
   "outputs": [],
   "source": []
  }
 ],
 "metadata": {
  "kernelspec": {
   "display_name": "Python 3",
   "language": "python",
   "name": "python3"
  },
  "language_info": {
   "codemirror_mode": {
    "name": "ipython",
    "version": 3
   },
   "file_extension": ".py",
   "mimetype": "text/x-python",
   "name": "python",
   "nbconvert_exporter": "python",
   "pygments_lexer": "ipython3",
   "version": "3.9.16"
  },
  "orig_nbformat": 4
 },
 "nbformat": 4,
 "nbformat_minor": 2
}
