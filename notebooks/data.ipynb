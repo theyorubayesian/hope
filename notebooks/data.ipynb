{
 "cells": [
  {
   "cell_type": "code",
   "execution_count": 1,
   "metadata": {},
   "outputs": [],
   "source": [
    "import json\n",
    "from collections import defaultdict\n",
    "from itertools import chain\n",
    "from pprint import pprint\n",
    "from random import sample\n",
    "\n",
    "import jsonlines\n",
    "import pandas as pd\n",
    "\n",
    "from hope.twitter.graph import get_graphing_info\n",
    "from hope.twitter.item import TweetItem"
   ]
  },
  {
   "cell_type": "code",
   "execution_count": 2,
   "metadata": {},
   "outputs": [],
   "source": [
    "DEBUG = False\n",
    "\n",
    "node_set = set()\n",
    "all_nodes = []\n",
    "all_edges = []"
   ]
  },
  {
   "cell_type": "code",
   "execution_count": 3,
   "metadata": {},
   "outputs": [],
   "source": [
    "with jsonlines.open(\"../data/2023Elections_sample.jsonl\") as f:\n",
    "    for line in f:\n",
    "        _ = \"\" if line.get(\"_id\", None) is None else line.pop(\"_id\")\n",
    "    \n",
    "        nodes, edge = get_graphing_info(TweetItem(**line), tweets_as_nodes=True)\n",
    "        if nodes:\n",
    "            if DEBUG:\n",
    "                pprint(nodes)\n",
    "                pprint(edge)\n",
    "            \n",
    "            all_edges.append(edge)\n",
    "\n",
    "            for node in nodes:\n",
    "                if node[\"id\"] not in node_set:\n",
    "                    all_nodes.append(node)\n",
    "                    node_set.add(node[\"id\"])"
   ]
  },
  {
   "cell_type": "code",
   "execution_count": 4,
   "metadata": {},
   "outputs": [
    {
     "data": {
      "text/plain": [
       "293486"
      ]
     },
     "execution_count": 4,
     "metadata": {},
     "output_type": "execute_result"
    }
   ],
   "source": [
    "len(all_edges)"
   ]
  },
  {
   "cell_type": "code",
   "execution_count": 5,
   "metadata": {},
   "outputs": [
    {
     "data": {
      "text/plain": [
       "357547"
      ]
     },
     "execution_count": 5,
     "metadata": {},
     "output_type": "execute_result"
    }
   ],
   "source": [
    "len(all_nodes)"
   ]
  },
  {
   "cell_type": "code",
   "execution_count": 6,
   "metadata": {},
   "outputs": [
    {
     "data": {
      "text/plain": [
       "[{'source': '1626899713382383616',\n",
       "  'type': 'Tweet-Directed',\n",
       "  'action': 'retweet',\n",
       "  'target': '1626882679995092992',\n",
       "  'weight': 1}]"
      ]
     },
     "execution_count": 6,
     "metadata": {},
     "output_type": "execute_result"
    }
   ],
   "source": [
    "all_edges[0]"
   ]
  },
  {
   "cell_type": "code",
   "execution_count": 7,
   "metadata": {},
   "outputs": [
    {
     "data": {
      "text/plain": [
       "{'id': '1626899713382383616',\n",
       " 'tweet': 'RT @IAOkowa: We are counting down to #NigeriaDecides - only 6 days and 21 hours to go! \\n\\nToday, we are in Adamawa State, the birthplace of…',\n",
       " 'user_id': '1590006005420756993',\n",
       " 'timestamp': '2023-02-18T11:01:32Z'}"
      ]
     },
     "execution_count": 7,
     "metadata": {},
     "output_type": "execute_result"
    }
   ],
   "source": [
    "all_nodes[0]"
   ]
  },
  {
   "cell_type": "code",
   "execution_count": 6,
   "metadata": {},
   "outputs": [],
   "source": [
    "actions = {\"n_reply\": 0, \"n_retweet\": 0, \"n_quote\": 0}  # Default values"
   ]
  },
  {
   "cell_type": "code",
   "execution_count": 7,
   "metadata": {},
   "outputs": [],
   "source": [
    "node_mapping = {node[\"id\"]: {**node, **actions} for node in all_nodes}"
   ]
  },
  {
   "cell_type": "code",
   "execution_count": 8,
   "metadata": {},
   "outputs": [],
   "source": [
    "# Count number of retweets, replies, quotes for each node in sample\n",
    "# TODO: Formalize into reusable function\n",
    "for edge in chain(*all_edges):\n",
    "    target_node: dict = node_mapping[edge[\"target\"]]\n",
    "    target_node[f\"n_{edge['action']}\"] += 1"
   ]
  },
  {
   "cell_type": "code",
   "execution_count": 28,
   "metadata": {},
   "outputs": [
    {
     "name": "stdout",
     "output_type": "stream",
     "text": [
      "{'id': '1629059859311218693',\n",
      " 'n_retweet': 1,\n",
      " 'timestamp': '',\n",
      " 'tweet': '',\n",
      " 'user_id': '1482343842414309377'}\n"
     ]
    }
   ],
   "source": [
    "idx = sample(range(len(all_nodes)), k=1)[0]     # Get random index\n",
    "pprint(all_nodes[idx])"
   ]
  },
  {
   "cell_type": "code",
   "execution_count": 9,
   "metadata": {},
   "outputs": [],
   "source": [
    "with open(\"../data/2023Elections_sample_nodes.jsonl\", 'w') as f:\n",
    "    for d in node_mapping.values():\n",
    "        line = json.dumps(d) + \"\\n\"\n",
    "        f.write(line)"
   ]
  },
  {
   "cell_type": "code",
   "execution_count": 10,
   "metadata": {},
   "outputs": [],
   "source": [
    "with open(\"../data/2023Elections_sample_edges.jsonl\", \"w\") as f:\n",
    "    for d in chain(*all_edges):\n",
    "        line = json.dumps(d) + \"\\n\"\n",
    "        f.write(line)"
   ]
  },
  {
   "cell_type": "code",
   "execution_count": 2,
   "metadata": {},
   "outputs": [],
   "source": [
    "types = defaultdict(lambda: \"str\")"
   ]
  },
  {
   "cell_type": "code",
   "execution_count": 3,
   "metadata": {},
   "outputs": [],
   "source": [
    "pd.read_json(\"../data/2023Elections_sample_nodes.jsonl\", lines=True, dtype=types).to_csv(\"../data/2023Elections_sample_nodes.csv\", index=False)"
   ]
  },
  {
   "cell_type": "code",
   "execution_count": 4,
   "metadata": {},
   "outputs": [],
   "source": [
    "pd.read_json(\"../data/2023Elections_sample_edges.jsonl\", lines=True, dtype=types).to_csv(\"../data/2023Elections_sample_edges.csv\", index=False)"
   ]
  },
  {
   "attachments": {},
   "cell_type": "markdown",
   "metadata": {},
   "source": [
    "### Further Sampling Nodes & Edges"
   ]
  },
  {
   "cell_type": "code",
   "execution_count": 22,
   "metadata": {},
   "outputs": [],
   "source": [
    "SUBSAMPLE_SIZE = 1000\n",
    "DEBUG = False"
   ]
  },
  {
   "cell_type": "code",
   "execution_count": 18,
   "metadata": {},
   "outputs": [],
   "source": [
    "subsample = pd.read_json(\"../data/2023Elections_sample.jsonl\", dtype=types, lines=True).sample(SUBSAMPLE_SIZE) #.to_csv(\"../data/sample_nodes.csv\", index=False)"
   ]
  },
  {
   "cell_type": "code",
   "execution_count": 19,
   "metadata": {},
   "outputs": [
    {
     "data": {
      "text/html": [
       "<div>\n",
       "<style scoped>\n",
       "    .dataframe tbody tr th:only-of-type {\n",
       "        vertical-align: middle;\n",
       "    }\n",
       "\n",
       "    .dataframe tbody tr th {\n",
       "        vertical-align: top;\n",
       "    }\n",
       "\n",
       "    .dataframe thead th {\n",
       "        text-align: right;\n",
       "    }\n",
       "</style>\n",
       "<table border=\"1\" class=\"dataframe\">\n",
       "  <thead>\n",
       "    <tr style=\"text-align: right;\">\n",
       "      <th></th>\n",
       "      <th>tweet_id</th>\n",
       "      <th>user_id</th>\n",
       "      <th>user_created_at</th>\n",
       "      <th>user_screen_name</th>\n",
       "      <th>timestamp</th>\n",
       "      <th>text</th>\n",
       "      <th>is_retweet</th>\n",
       "      <th>rt_id</th>\n",
       "      <th>rt_timestamp</th>\n",
       "      <th>rt_user_id</th>\n",
       "      <th>...</th>\n",
       "      <th>is_quote</th>\n",
       "      <th>qt_id</th>\n",
       "      <th>qt_timestamp</th>\n",
       "      <th>qt_user_id</th>\n",
       "      <th>qt_user_created_at</th>\n",
       "      <th>qt_user_screen_name</th>\n",
       "      <th>is_reply</th>\n",
       "      <th>in_reply_to_tweet_id</th>\n",
       "      <th>in_reply_to_user_id</th>\n",
       "      <th>in_reply_to_user_screen_name</th>\n",
       "    </tr>\n",
       "  </thead>\n",
       "  <tbody>\n",
       "    <tr>\n",
       "      <th>60021</th>\n",
       "      <td>1627677996235558913</td>\n",
       "      <td>904923386</td>\n",
       "      <td>{'$date': '2012-10-25T23:56:13Z'}</td>\n",
       "      <td>jeffito202</td>\n",
       "      <td>{'$date': '2023-02-20T14:34:09Z'}</td>\n",
       "      <td>RT @4GOODGEOFF: @Gistloversblog1 This is the r...</td>\n",
       "      <td>True</td>\n",
       "      <td>1627641449134141442</td>\n",
       "      <td>{'$date': '2023-02-20T12:08:56Z'}</td>\n",
       "      <td>372537576</td>\n",
       "      <td>...</td>\n",
       "      <td>NaN</td>\n",
       "      <td>NaN</td>\n",
       "      <td>NaN</td>\n",
       "      <td>NaN</td>\n",
       "      <td>NaN</td>\n",
       "      <td>NaN</td>\n",
       "      <td>NaN</td>\n",
       "      <td>NaN</td>\n",
       "      <td>NaN</td>\n",
       "      <td>NaN</td>\n",
       "    </tr>\n",
       "    <tr>\n",
       "      <th>290911</th>\n",
       "      <td>1629395762718076928</td>\n",
       "      <td>1301098347051331584</td>\n",
       "      <td>{'$date': '2020-09-02T10:04:00Z'}</td>\n",
       "      <td>JojoNitq</td>\n",
       "      <td>{'$date': '2023-02-25T08:19:57Z'}</td>\n",
       "      <td>RT @firstladyship: Peter Obi on his way to his...</td>\n",
       "      <td>True</td>\n",
       "      <td>1629384992554926080</td>\n",
       "      <td>{'$date': '2023-02-25T07:37:09Z'}</td>\n",
       "      <td>201237617</td>\n",
       "      <td>...</td>\n",
       "      <td>NaN</td>\n",
       "      <td>NaN</td>\n",
       "      <td>NaN</td>\n",
       "      <td>NaN</td>\n",
       "      <td>NaN</td>\n",
       "      <td>NaN</td>\n",
       "      <td>NaN</td>\n",
       "      <td>NaN</td>\n",
       "      <td>NaN</td>\n",
       "      <td>NaN</td>\n",
       "    </tr>\n",
       "    <tr>\n",
       "      <th>131342</th>\n",
       "      <td>1628327238327320577</td>\n",
       "      <td>1620020785535455232</td>\n",
       "      <td>{'$date': '2023-01-30T11:27:16Z'}</td>\n",
       "      <td>ifeanyiNwabue17</td>\n",
       "      <td>{'$date': '2023-02-22T09:34:01Z'}</td>\n",
       "      <td>RT @AdrianOdogwu: In Atiku's mandate we trust\\...</td>\n",
       "      <td>True</td>\n",
       "      <td>1627988360441520134</td>\n",
       "      <td>{'$date': '2023-02-21T11:07:26Z'}</td>\n",
       "      <td>1572251945334603776</td>\n",
       "      <td>...</td>\n",
       "      <td>True</td>\n",
       "      <td>1627970884165156864</td>\n",
       "      <td>{'$date': '2023-02-21T09:57:59Z'}</td>\n",
       "      <td>1620045073063739392</td>\n",
       "      <td>{'$date': '2023-01-30T13:03:48Z'}</td>\n",
       "      <td>akinfemi08125</td>\n",
       "      <td>NaN</td>\n",
       "      <td>NaN</td>\n",
       "      <td>NaN</td>\n",
       "      <td>NaN</td>\n",
       "    </tr>\n",
       "    <tr>\n",
       "      <th>48579</th>\n",
       "      <td>1627332485083267080</td>\n",
       "      <td>2451709839</td>\n",
       "      <td>{'$date': '2014-04-01T06:59:46Z'}</td>\n",
       "      <td>Da_caresser</td>\n",
       "      <td>{'$date': '2023-02-19T15:41:13Z'}</td>\n",
       "      <td>RT @Sports_Doctor2: I have tears in my eyes.\\n...</td>\n",
       "      <td>True</td>\n",
       "      <td>1627231920516919297</td>\n",
       "      <td>{'$date': '2023-02-19T09:01:37Z'}</td>\n",
       "      <td>752140837614678016</td>\n",
       "      <td>...</td>\n",
       "      <td>NaN</td>\n",
       "      <td>NaN</td>\n",
       "      <td>NaN</td>\n",
       "      <td>NaN</td>\n",
       "      <td>NaN</td>\n",
       "      <td>NaN</td>\n",
       "      <td>NaN</td>\n",
       "      <td>NaN</td>\n",
       "      <td>NaN</td>\n",
       "      <td>NaN</td>\n",
       "    </tr>\n",
       "    <tr>\n",
       "      <th>132978</th>\n",
       "      <td>1628340862324293632</td>\n",
       "      <td>1169185705521754112</td>\n",
       "      <td>{'$date': '2019-09-04T09:49:47Z'}</td>\n",
       "      <td>oboybob1</td>\n",
       "      <td>{'$date': '2023-02-22T10:28:09Z'}</td>\n",
       "      <td>RT @asemota: I like this! He wants to seal the...</td>\n",
       "      <td>True</td>\n",
       "      <td>1628074931434012674</td>\n",
       "      <td>{'$date': '2023-02-21T16:51:26Z'}</td>\n",
       "      <td>5404442</td>\n",
       "      <td>...</td>\n",
       "      <td>True</td>\n",
       "      <td>1628034954469818369</td>\n",
       "      <td>{'$date': '2023-02-21T14:12:35Z'}</td>\n",
       "      <td>3411882591</td>\n",
       "      <td>{'$date': '2015-08-10T05:02:18Z'}</td>\n",
       "      <td>MissPearls</td>\n",
       "      <td>NaN</td>\n",
       "      <td>NaN</td>\n",
       "      <td>NaN</td>\n",
       "      <td>NaN</td>\n",
       "    </tr>\n",
       "  </tbody>\n",
       "</table>\n",
       "<p>5 rows × 24 columns</p>\n",
       "</div>"
      ],
      "text/plain": [
       "                   tweet_id              user_id  \\\n",
       "60021   1627677996235558913            904923386   \n",
       "290911  1629395762718076928  1301098347051331584   \n",
       "131342  1628327238327320577  1620020785535455232   \n",
       "48579   1627332485083267080           2451709839   \n",
       "132978  1628340862324293632  1169185705521754112   \n",
       "\n",
       "                          user_created_at user_screen_name  \\\n",
       "60021   {'$date': '2012-10-25T23:56:13Z'}       jeffito202   \n",
       "290911  {'$date': '2020-09-02T10:04:00Z'}         JojoNitq   \n",
       "131342  {'$date': '2023-01-30T11:27:16Z'}  ifeanyiNwabue17   \n",
       "48579   {'$date': '2014-04-01T06:59:46Z'}      Da_caresser   \n",
       "132978  {'$date': '2019-09-04T09:49:47Z'}         oboybob1   \n",
       "\n",
       "                                timestamp  \\\n",
       "60021   {'$date': '2023-02-20T14:34:09Z'}   \n",
       "290911  {'$date': '2023-02-25T08:19:57Z'}   \n",
       "131342  {'$date': '2023-02-22T09:34:01Z'}   \n",
       "48579   {'$date': '2023-02-19T15:41:13Z'}   \n",
       "132978  {'$date': '2023-02-22T10:28:09Z'}   \n",
       "\n",
       "                                                     text is_retweet  \\\n",
       "60021   RT @4GOODGEOFF: @Gistloversblog1 This is the r...       True   \n",
       "290911  RT @firstladyship: Peter Obi on his way to his...       True   \n",
       "131342  RT @AdrianOdogwu: In Atiku's mandate we trust\\...       True   \n",
       "48579   RT @Sports_Doctor2: I have tears in my eyes.\\n...       True   \n",
       "132978  RT @asemota: I like this! He wants to seal the...       True   \n",
       "\n",
       "                      rt_id                       rt_timestamp  \\\n",
       "60021   1627641449134141442  {'$date': '2023-02-20T12:08:56Z'}   \n",
       "290911  1629384992554926080  {'$date': '2023-02-25T07:37:09Z'}   \n",
       "131342  1627988360441520134  {'$date': '2023-02-21T11:07:26Z'}   \n",
       "48579   1627231920516919297  {'$date': '2023-02-19T09:01:37Z'}   \n",
       "132978  1628074931434012674  {'$date': '2023-02-21T16:51:26Z'}   \n",
       "\n",
       "                 rt_user_id  ... is_quote                qt_id  \\\n",
       "60021             372537576  ...      NaN                  NaN   \n",
       "290911            201237617  ...      NaN                  NaN   \n",
       "131342  1572251945334603776  ...     True  1627970884165156864   \n",
       "48579    752140837614678016  ...      NaN                  NaN   \n",
       "132978              5404442  ...     True  1628034954469818369   \n",
       "\n",
       "                             qt_timestamp           qt_user_id  \\\n",
       "60021                                 NaN                  NaN   \n",
       "290911                                NaN                  NaN   \n",
       "131342  {'$date': '2023-02-21T09:57:59Z'}  1620045073063739392   \n",
       "48579                                 NaN                  NaN   \n",
       "132978  {'$date': '2023-02-21T14:12:35Z'}           3411882591   \n",
       "\n",
       "                       qt_user_created_at qt_user_screen_name is_reply  \\\n",
       "60021                                 NaN                 NaN      NaN   \n",
       "290911                                NaN                 NaN      NaN   \n",
       "131342  {'$date': '2023-01-30T13:03:48Z'}       akinfemi08125      NaN   \n",
       "48579                                 NaN                 NaN      NaN   \n",
       "132978  {'$date': '2015-08-10T05:02:18Z'}          MissPearls      NaN   \n",
       "\n",
       "       in_reply_to_tweet_id in_reply_to_user_id in_reply_to_user_screen_name  \n",
       "60021                   NaN                 NaN                          NaN  \n",
       "290911                  NaN                 NaN                          NaN  \n",
       "131342                  NaN                 NaN                          NaN  \n",
       "48579                   NaN                 NaN                          NaN  \n",
       "132978                  NaN                 NaN                          NaN  \n",
       "\n",
       "[5 rows x 24 columns]"
      ]
     },
     "execution_count": 19,
     "metadata": {},
     "output_type": "execute_result"
    }
   ],
   "source": [
    "subsample.head()"
   ]
  },
  {
   "cell_type": "code",
   "execution_count": 24,
   "metadata": {},
   "outputs": [],
   "source": [
    "node_set = set()\n",
    "all_nodes = []\n",
    "all_edges = []\n",
    "\n",
    "for idx, row in subsample.iterrows():\n",
    "    row_dict = row.to_dict()\n",
    "    _ = \"\" if row_dict.get(\"_id\", None) is None else row_dict.pop(\"_id\")\n",
    "    \n",
    "    nodes, edge = get_graphing_info(TweetItem(**row_dict), tweets_as_nodes=True)\n",
    "    if nodes:\n",
    "        if DEBUG:\n",
    "            pprint(nodes)\n",
    "            pprint(edge)\n",
    "        \n",
    "        all_edges.append(edge)\n",
    "\n",
    "        for node in nodes:\n",
    "            if node[\"id\"] not in node_set:\n",
    "                all_nodes.append(node)\n",
    "                node_set.add(node[\"id\"])"
   ]
  },
  {
   "cell_type": "code",
   "execution_count": 25,
   "metadata": {},
   "outputs": [],
   "source": [
    "actions = {\"n_reply\": 0, \"n_retweet\": 0, \"n_quote\": 0}  # Default values"
   ]
  },
  {
   "cell_type": "code",
   "execution_count": 26,
   "metadata": {},
   "outputs": [],
   "source": [
    "node_mapping = {node[\"id\"]: {**node, **actions} for node in all_nodes}"
   ]
  },
  {
   "cell_type": "code",
   "execution_count": 27,
   "metadata": {},
   "outputs": [],
   "source": [
    "# Count number of retweets, replies, quotes for each node in sample\n",
    "# TODO: Formalize into reusable function\n",
    "for edge in chain(*all_edges):\n",
    "    target_node: dict = node_mapping[edge[\"target\"]]\n",
    "    target_node[f\"n_{edge['action']}\"] += 1"
   ]
  },
  {
   "cell_type": "code",
   "execution_count": 28,
   "metadata": {},
   "outputs": [],
   "source": [
    "node_json = \"\\n\".join([json.dumps(d) for d in node_mapping.values()])"
   ]
  },
  {
   "cell_type": "code",
   "execution_count": 32,
   "metadata": {},
   "outputs": [],
   "source": [
    "edge_json = \"\\n\".join([json.dumps(d) for d in chain(*all_edges)])"
   ]
  },
  {
   "cell_type": "code",
   "execution_count": 31,
   "metadata": {},
   "outputs": [],
   "source": [
    "pd.read_json(node_json, lines=True, dtype=types).to_csv(\"../data/2023Elections_subsample_nodes.csv\", index=False)"
   ]
  },
  {
   "cell_type": "code",
   "execution_count": 33,
   "metadata": {},
   "outputs": [],
   "source": [
    "pd.read_json(edge_json, lines=True, dtype=types).to_csv(\"../data/2023Elections_subsample_edges.csv\", index=False)"
   ]
  },
  {
   "cell_type": "code",
   "execution_count": null,
   "metadata": {},
   "outputs": [],
   "source": []
  }
 ],
 "metadata": {
  "kernelspec": {
   "display_name": "Python 3",
   "language": "python",
   "name": "python3"
  },
  "language_info": {
   "codemirror_mode": {
    "name": "ipython",
    "version": 3
   },
   "file_extension": ".py",
   "mimetype": "text/x-python",
   "name": "python",
   "nbconvert_exporter": "python",
   "pygments_lexer": "ipython3",
   "version": "3.9.16"
  },
  "orig_nbformat": 4
 },
 "nbformat": 4,
 "nbformat_minor": 2
}
