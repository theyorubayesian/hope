{
 "cells": [
  {
   "cell_type": "code",
   "execution_count": 22,
   "metadata": {},
   "outputs": [],
   "source": [
    "import json\n",
    "from itertools import chain\n",
    "from pprint import pprint\n",
    "from random import sample\n",
    "\n",
    "import jsonlines\n",
    "\n",
    "from hope.twitter.graph import get_graphing_info\n",
    "from hope.twitter.item import TweetItem"
   ]
  },
  {
   "cell_type": "code",
   "execution_count": 2,
   "metadata": {},
   "outputs": [],
   "source": [
    "DEBUG = False\n",
    "\n",
    "node_set = set()\n",
    "all_nodes = []\n",
    "all_edges = []"
   ]
  },
  {
   "cell_type": "code",
   "execution_count": 3,
   "metadata": {},
   "outputs": [],
   "source": [
    "with jsonlines.open(\"../data/2023Elections_sample.jsonl\") as f:\n",
    "    for line in f:\n",
    "        _ = \"\" if line.get(\"_id\", None) is None else line.pop(\"_id\")\n",
    "    \n",
    "        nodes, edge = get_graphing_info(TweetItem(**line), tweets_as_nodes=True)\n",
    "        if nodes:\n",
    "            if DEBUG:\n",
    "                pprint(nodes)\n",
    "                pprint(edge)\n",
    "            \n",
    "            all_edges.append(edge)\n",
    "\n",
    "            for node in nodes:\n",
    "                if node[\"id\"] not in node_set:\n",
    "                    all_nodes.append(node)\n",
    "                    node_set.add(node[\"id\"])"
   ]
  },
  {
   "cell_type": "code",
   "execution_count": 4,
   "metadata": {},
   "outputs": [
    {
     "data": {
      "text/plain": [
       "293486"
      ]
     },
     "execution_count": 4,
     "metadata": {},
     "output_type": "execute_result"
    }
   ],
   "source": [
    "len(all_edges)"
   ]
  },
  {
   "cell_type": "code",
   "execution_count": 10,
   "metadata": {},
   "outputs": [
    {
     "data": {
      "text/plain": [
       "357547"
      ]
     },
     "execution_count": 10,
     "metadata": {},
     "output_type": "execute_result"
    }
   ],
   "source": [
    "len(all_nodes)"
   ]
  },
  {
   "cell_type": "code",
   "execution_count": 6,
   "metadata": {},
   "outputs": [
    {
     "data": {
      "text/plain": [
       "[{'source': '1626899713382383616',\n",
       "  'type': 'Tweet-Directed',\n",
       "  'action': 'retweet',\n",
       "  'target': '1626882679995092992',\n",
       "  'weight': 1}]"
      ]
     },
     "execution_count": 6,
     "metadata": {},
     "output_type": "execute_result"
    }
   ],
   "source": [
    "all_edges[0]"
   ]
  },
  {
   "cell_type": "code",
   "execution_count": 7,
   "metadata": {},
   "outputs": [
    {
     "data": {
      "text/plain": [
       "{'id': '1626899713382383616',\n",
       " 'tweet': 'RT @IAOkowa: We are counting down to #NigeriaDecides - only 6 days and 21 hours to go! \\n\\nToday, we are in Adamawa State, the birthplace of…',\n",
       " 'user_id': '1590006005420756993',\n",
       " 'timestamp': '2023-02-18T11:01:32Z'}"
      ]
     },
     "execution_count": 7,
     "metadata": {},
     "output_type": "execute_result"
    }
   ],
   "source": [
    "all_nodes[0]"
   ]
  },
  {
   "cell_type": "code",
   "execution_count": null,
   "metadata": {},
   "outputs": [],
   "source": [
    "actions = {\"n_reply\": 0, \"n_retweet\": 0, \"n_quote\": 0}  # Default values"
   ]
  },
  {
   "cell_type": "code",
   "execution_count": 8,
   "metadata": {},
   "outputs": [],
   "source": [
    "node_mapping = {node[\"id\"]: {**node, **actions} for node in all_nodes}"
   ]
  },
  {
   "cell_type": "code",
   "execution_count": 16,
   "metadata": {},
   "outputs": [],
   "source": [
    "# Count number of retweets, replies, quotes for each node in sample\n",
    "# TODO: Formalize into reusable function\n",
    "for edge in chain(*all_edges):\n",
    "    target_node: dict = node_mapping[edge[\"target\"]]\n",
    "    target_node[f\"n_{edge['action']}\"] += 1"
   ]
  },
  {
   "cell_type": "code",
   "execution_count": 28,
   "metadata": {},
   "outputs": [
    {
     "name": "stdout",
     "output_type": "stream",
     "text": [
      "{'id': '1629059859311218693',\n",
      " 'n_retweet': 1,\n",
      " 'timestamp': '',\n",
      " 'tweet': '',\n",
      " 'user_id': '1482343842414309377'}\n"
     ]
    }
   ],
   "source": [
    "idx = sample(range(len(all_nodes)), k=1)[0]     # Get random index\n",
    "pprint(all_nodes[idx])"
   ]
  },
  {
   "cell_type": "code",
   "execution_count": 30,
   "metadata": {},
   "outputs": [],
   "source": [
    "with open(\"../data/2023Elections_sample_nodes.jsonl\", 'w') as f:\n",
    "    for d in node_mapping.values():\n",
    "        line = line = json.dumps(d) + \"\\n\"\n",
    "        f.write(line)"
   ]
  },
  {
   "cell_type": "code",
   "execution_count": 31,
   "metadata": {},
   "outputs": [],
   "source": [
    "with open(\"../data/2023Elections_sample_edges.jsonl\", \"w\") as f:\n",
    "    for d in chain(*all_edges):\n",
    "        line = line = json.dumps(d) + \"\\n\"\n",
    "        f.write(line)"
   ]
  },
  {
   "cell_type": "code",
   "execution_count": null,
   "metadata": {},
   "outputs": [],
   "source": []
  }
 ],
 "metadata": {
  "kernelspec": {
   "display_name": "Python 3",
   "language": "python",
   "name": "python3"
  },
  "language_info": {
   "codemirror_mode": {
    "name": "ipython",
    "version": 3
   },
   "file_extension": ".py",
   "mimetype": "text/x-python",
   "name": "python",
   "nbconvert_exporter": "python",
   "pygments_lexer": "ipython3",
   "version": "3.9.16"
  },
  "orig_nbformat": 4
 },
 "nbformat": 4,
 "nbformat_minor": 2
}
